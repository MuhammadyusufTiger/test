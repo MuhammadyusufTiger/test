{
  "nbformat": 4,
  "nbformat_minor": 0,
  "metadata": {
    "colab": {
      "provenance": []
    },
    "kernelspec": {
      "name": "python3",
      "display_name": "Python 3"
    },
    "language_info": {
      "name": "python"
    }
  },
  "cells": [
    {
      "cell_type": "code",
      "execution_count": null,
      "metadata": {
        "id": "-x74Q0NAJ2ks"
      },
      "outputs": [],
      "source": [
        "import numpy as np\n",
        "import pandas as pd"
      ]
    },
    {
      "cell_type": "code",
      "source": [
        "df=pd.read_csv(\"https://raw.githubusercontent.com/MuhammadyusufTiger/machineLearning1/main/London.csv\", index_col=0,)\n",
        "df.rename(columns={\"Area in sq ft\": \"Size\"}, inplace=True)\n",
        "df"
      ],
      "metadata": {
        "colab": {
          "base_uri": "https://localhost:8080/",
          "height": 468
        },
        "id": "aGdfeQG6KBXy",
        "outputId": "79566749-0016-46d6-8e8f-022e60846532"
      },
      "execution_count": null,
      "outputs": [
        {
          "output_type": "execute_result",
          "data": {
            "text/plain": [
              "           Property Name    Price        House Type  Size  No. of Bedrooms  \\\n",
              "0            Queens Road  1675000             House  2716                5   \n",
              "1          Seward Street   650000  Flat / Apartment   814                2   \n",
              "2            Hotham Road   735000  Flat / Apartment   761                2   \n",
              "3           Festing Road  1765000             House  1986                4   \n",
              "4           Spencer Walk   675000  Flat / Apartment   700                2   \n",
              "...                  ...      ...               ...   ...              ...   \n",
              "3475   One Lillie Square  3350000   New development  1410                3   \n",
              "3476  St. James's Street  5275000  Flat / Apartment  1749                3   \n",
              "3477       Ingram Avenue  5995000             House  4435                6   \n",
              "3478         Cork Street  6300000   New development  1506                3   \n",
              "3479    Courtenay Avenue  8650000             House  5395                6   \n",
              "\n",
              "      No. of Bathrooms  No. of Receptions                 Location  \\\n",
              "0                    5                  5                Wimbledon   \n",
              "1                    2                  2              Clerkenwell   \n",
              "2                    2                  2                   Putney   \n",
              "3                    4                  4                   Putney   \n",
              "4                    2                  2                   Putney   \n",
              "...                ...                ...                      ...   \n",
              "3475                 3                  3                      NaN   \n",
              "3476                 3                  3               St James's   \n",
              "3477                 6                  6  Hampstead Garden Suburb   \n",
              "3478                 3                  3                  Mayfair   \n",
              "3479                 6                  6                 Highgate   \n",
              "\n",
              "        City/County Postal Code  \n",
              "0            London    SW19 8NY  \n",
              "1            London    EC1V 3PA  \n",
              "2            London    SW15 1QL  \n",
              "3            London    SW15 1LP  \n",
              "4            London    SW15 1PL  \n",
              "...             ...         ...  \n",
              "3475  Lillie Square     SW6 1UE  \n",
              "3476         London    SW1A 1JT  \n",
              "3477         London    NW11 6TG  \n",
              "3478         London     W1S 3AR  \n",
              "3479         London      N6 4LP  \n",
              "\n",
              "[3480 rows x 10 columns]"
            ],
            "text/html": [
              "\n",
              "  <div id=\"df-f4861ccd-bdb9-4bc8-8f49-b330d172a4a8\">\n",
              "    <div class=\"colab-df-container\">\n",
              "      <div>\n",
              "<style scoped>\n",
              "    .dataframe tbody tr th:only-of-type {\n",
              "        vertical-align: middle;\n",
              "    }\n",
              "\n",
              "    .dataframe tbody tr th {\n",
              "        vertical-align: top;\n",
              "    }\n",
              "\n",
              "    .dataframe thead th {\n",
              "        text-align: right;\n",
              "    }\n",
              "</style>\n",
              "<table border=\"1\" class=\"dataframe\">\n",
              "  <thead>\n",
              "    <tr style=\"text-align: right;\">\n",
              "      <th></th>\n",
              "      <th>Property Name</th>\n",
              "      <th>Price</th>\n",
              "      <th>House Type</th>\n",
              "      <th>Size</th>\n",
              "      <th>No. of Bedrooms</th>\n",
              "      <th>No. of Bathrooms</th>\n",
              "      <th>No. of Receptions</th>\n",
              "      <th>Location</th>\n",
              "      <th>City/County</th>\n",
              "      <th>Postal Code</th>\n",
              "    </tr>\n",
              "  </thead>\n",
              "  <tbody>\n",
              "    <tr>\n",
              "      <th>0</th>\n",
              "      <td>Queens Road</td>\n",
              "      <td>1675000</td>\n",
              "      <td>House</td>\n",
              "      <td>2716</td>\n",
              "      <td>5</td>\n",
              "      <td>5</td>\n",
              "      <td>5</td>\n",
              "      <td>Wimbledon</td>\n",
              "      <td>London</td>\n",
              "      <td>SW19 8NY</td>\n",
              "    </tr>\n",
              "    <tr>\n",
              "      <th>1</th>\n",
              "      <td>Seward Street</td>\n",
              "      <td>650000</td>\n",
              "      <td>Flat / Apartment</td>\n",
              "      <td>814</td>\n",
              "      <td>2</td>\n",
              "      <td>2</td>\n",
              "      <td>2</td>\n",
              "      <td>Clerkenwell</td>\n",
              "      <td>London</td>\n",
              "      <td>EC1V 3PA</td>\n",
              "    </tr>\n",
              "    <tr>\n",
              "      <th>2</th>\n",
              "      <td>Hotham Road</td>\n",
              "      <td>735000</td>\n",
              "      <td>Flat / Apartment</td>\n",
              "      <td>761</td>\n",
              "      <td>2</td>\n",
              "      <td>2</td>\n",
              "      <td>2</td>\n",
              "      <td>Putney</td>\n",
              "      <td>London</td>\n",
              "      <td>SW15 1QL</td>\n",
              "    </tr>\n",
              "    <tr>\n",
              "      <th>3</th>\n",
              "      <td>Festing Road</td>\n",
              "      <td>1765000</td>\n",
              "      <td>House</td>\n",
              "      <td>1986</td>\n",
              "      <td>4</td>\n",
              "      <td>4</td>\n",
              "      <td>4</td>\n",
              "      <td>Putney</td>\n",
              "      <td>London</td>\n",
              "      <td>SW15 1LP</td>\n",
              "    </tr>\n",
              "    <tr>\n",
              "      <th>4</th>\n",
              "      <td>Spencer Walk</td>\n",
              "      <td>675000</td>\n",
              "      <td>Flat / Apartment</td>\n",
              "      <td>700</td>\n",
              "      <td>2</td>\n",
              "      <td>2</td>\n",
              "      <td>2</td>\n",
              "      <td>Putney</td>\n",
              "      <td>London</td>\n",
              "      <td>SW15 1PL</td>\n",
              "    </tr>\n",
              "    <tr>\n",
              "      <th>...</th>\n",
              "      <td>...</td>\n",
              "      <td>...</td>\n",
              "      <td>...</td>\n",
              "      <td>...</td>\n",
              "      <td>...</td>\n",
              "      <td>...</td>\n",
              "      <td>...</td>\n",
              "      <td>...</td>\n",
              "      <td>...</td>\n",
              "      <td>...</td>\n",
              "    </tr>\n",
              "    <tr>\n",
              "      <th>3475</th>\n",
              "      <td>One Lillie Square</td>\n",
              "      <td>3350000</td>\n",
              "      <td>New development</td>\n",
              "      <td>1410</td>\n",
              "      <td>3</td>\n",
              "      <td>3</td>\n",
              "      <td>3</td>\n",
              "      <td>NaN</td>\n",
              "      <td>Lillie Square</td>\n",
              "      <td>SW6 1UE</td>\n",
              "    </tr>\n",
              "    <tr>\n",
              "      <th>3476</th>\n",
              "      <td>St. James's Street</td>\n",
              "      <td>5275000</td>\n",
              "      <td>Flat / Apartment</td>\n",
              "      <td>1749</td>\n",
              "      <td>3</td>\n",
              "      <td>3</td>\n",
              "      <td>3</td>\n",
              "      <td>St James's</td>\n",
              "      <td>London</td>\n",
              "      <td>SW1A 1JT</td>\n",
              "    </tr>\n",
              "    <tr>\n",
              "      <th>3477</th>\n",
              "      <td>Ingram Avenue</td>\n",
              "      <td>5995000</td>\n",
              "      <td>House</td>\n",
              "      <td>4435</td>\n",
              "      <td>6</td>\n",
              "      <td>6</td>\n",
              "      <td>6</td>\n",
              "      <td>Hampstead Garden Suburb</td>\n",
              "      <td>London</td>\n",
              "      <td>NW11 6TG</td>\n",
              "    </tr>\n",
              "    <tr>\n",
              "      <th>3478</th>\n",
              "      <td>Cork Street</td>\n",
              "      <td>6300000</td>\n",
              "      <td>New development</td>\n",
              "      <td>1506</td>\n",
              "      <td>3</td>\n",
              "      <td>3</td>\n",
              "      <td>3</td>\n",
              "      <td>Mayfair</td>\n",
              "      <td>London</td>\n",
              "      <td>W1S 3AR</td>\n",
              "    </tr>\n",
              "    <tr>\n",
              "      <th>3479</th>\n",
              "      <td>Courtenay Avenue</td>\n",
              "      <td>8650000</td>\n",
              "      <td>House</td>\n",
              "      <td>5395</td>\n",
              "      <td>6</td>\n",
              "      <td>6</td>\n",
              "      <td>6</td>\n",
              "      <td>Highgate</td>\n",
              "      <td>London</td>\n",
              "      <td>N6 4LP</td>\n",
              "    </tr>\n",
              "  </tbody>\n",
              "</table>\n",
              "<p>3480 rows × 10 columns</p>\n",
              "</div>\n",
              "      <button class=\"colab-df-convert\" onclick=\"convertToInteractive('df-f4861ccd-bdb9-4bc8-8f49-b330d172a4a8')\"\n",
              "              title=\"Convert this dataframe to an interactive table.\"\n",
              "              style=\"display:none;\">\n",
              "        \n",
              "  <svg xmlns=\"http://www.w3.org/2000/svg\" height=\"24px\"viewBox=\"0 0 24 24\"\n",
              "       width=\"24px\">\n",
              "    <path d=\"M0 0h24v24H0V0z\" fill=\"none\"/>\n",
              "    <path d=\"M18.56 5.44l.94 2.06.94-2.06 2.06-.94-2.06-.94-.94-2.06-.94 2.06-2.06.94zm-11 1L8.5 8.5l.94-2.06 2.06-.94-2.06-.94L8.5 2.5l-.94 2.06-2.06.94zm10 10l.94 2.06.94-2.06 2.06-.94-2.06-.94-.94-2.06-.94 2.06-2.06.94z\"/><path d=\"M17.41 7.96l-1.37-1.37c-.4-.4-.92-.59-1.43-.59-.52 0-1.04.2-1.43.59L10.3 9.45l-7.72 7.72c-.78.78-.78 2.05 0 2.83L4 21.41c.39.39.9.59 1.41.59.51 0 1.02-.2 1.41-.59l7.78-7.78 2.81-2.81c.8-.78.8-2.07 0-2.86zM5.41 20L4 18.59l7.72-7.72 1.47 1.35L5.41 20z\"/>\n",
              "  </svg>\n",
              "      </button>\n",
              "      \n",
              "  <style>\n",
              "    .colab-df-container {\n",
              "      display:flex;\n",
              "      flex-wrap:wrap;\n",
              "      gap: 12px;\n",
              "    }\n",
              "\n",
              "    .colab-df-convert {\n",
              "      background-color: #E8F0FE;\n",
              "      border: none;\n",
              "      border-radius: 50%;\n",
              "      cursor: pointer;\n",
              "      display: none;\n",
              "      fill: #1967D2;\n",
              "      height: 32px;\n",
              "      padding: 0 0 0 0;\n",
              "      width: 32px;\n",
              "    }\n",
              "\n",
              "    .colab-df-convert:hover {\n",
              "      background-color: #E2EBFA;\n",
              "      box-shadow: 0px 1px 2px rgba(60, 64, 67, 0.3), 0px 1px 3px 1px rgba(60, 64, 67, 0.15);\n",
              "      fill: #174EA6;\n",
              "    }\n",
              "\n",
              "    [theme=dark] .colab-df-convert {\n",
              "      background-color: #3B4455;\n",
              "      fill: #D2E3FC;\n",
              "    }\n",
              "\n",
              "    [theme=dark] .colab-df-convert:hover {\n",
              "      background-color: #434B5C;\n",
              "      box-shadow: 0px 1px 3px 1px rgba(0, 0, 0, 0.15);\n",
              "      filter: drop-shadow(0px 1px 2px rgba(0, 0, 0, 0.3));\n",
              "      fill: #FFFFFF;\n",
              "    }\n",
              "  </style>\n",
              "\n",
              "      <script>\n",
              "        const buttonEl =\n",
              "          document.querySelector('#df-f4861ccd-bdb9-4bc8-8f49-b330d172a4a8 button.colab-df-convert');\n",
              "        buttonEl.style.display =\n",
              "          google.colab.kernel.accessAllowed ? 'block' : 'none';\n",
              "\n",
              "        async function convertToInteractive(key) {\n",
              "          const element = document.querySelector('#df-f4861ccd-bdb9-4bc8-8f49-b330d172a4a8');\n",
              "          const dataTable =\n",
              "            await google.colab.kernel.invokeFunction('convertToInteractive',\n",
              "                                                     [key], {});\n",
              "          if (!dataTable) return;\n",
              "\n",
              "          const docLinkHtml = 'Like what you see? Visit the ' +\n",
              "            '<a target=\"_blank\" href=https://colab.research.google.com/notebooks/data_table.ipynb>data table notebook</a>'\n",
              "            + ' to learn more about interactive tables.';\n",
              "          element.innerHTML = '';\n",
              "          dataTable['output_type'] = 'display_data';\n",
              "          await google.colab.output.renderOutput(dataTable, element);\n",
              "          const docLink = document.createElement('div');\n",
              "          docLink.innerHTML = docLinkHtml;\n",
              "          element.appendChild(docLink);\n",
              "        }\n",
              "      </script>\n",
              "    </div>\n",
              "  </div>\n",
              "  "
            ]
          },
          "metadata": {},
          "execution_count": 30
        }
      ]
    },
    {
      "cell_type": "markdown",
      "source": [
        "*  Property Name - Mulk Nomi\n",
        "*  Price - Narxi\n",
        "*  House Type - Uy turi ( hovli, kvartira ...)\n",
        "*  Size\t- Uy Maydoni\n",
        "*  No. of Bedrooms - Yotoqxonalar Soni\n",
        "*  No. of Bathrooms - Vannalar Soni\n",
        "*  No. of Receptions - Qabullar Soni\n",
        "*  Location - Uy Manzili\n",
        "*  City/Country - Uy Joylashgan Shaxar\n",
        "*  Postal Code - Pochta Kodi"
      ],
      "metadata": {
        "id": "sIMnVFYLKdI0"
      }
    },
    {
      "cell_type": "code",
      "source": [
        "df[\"Location\"].value_counts()"
      ],
      "metadata": {
        "colab": {
          "base_uri": "https://localhost:8080/"
        },
        "id": "ZDBWJ4_tNrUx",
        "outputId": "9254d36c-4758-4b12-8557-1ffc9d954c86"
      },
      "execution_count": null,
      "outputs": [
        {
          "output_type": "execute_result",
          "data": {
            "text/plain": [
              "Putney               96\n",
              "Barnes               71\n",
              "Wandsworth           70\n",
              "Wimbledon            68\n",
              "Esher                64\n",
              "                     ..\n",
              "Aberdeen Park         1\n",
              "Southgate Road        1\n",
              " Dalston              1\n",
              "162 Gideon Road       1\n",
              " Waterfront Drive     1\n",
              "Name: Location, Length: 656, dtype: int64"
            ]
          },
          "metadata": {},
          "execution_count": 31
        }
      ]
    },
    {
      "cell_type": "code",
      "source": [
        "londonHouse=df[df[\"Location\"]==\"Putney\"]\n",
        "londonHouse"
      ],
      "metadata": {
        "colab": {
          "base_uri": "https://localhost:8080/",
          "height": 424
        },
        "id": "KputKjqdNwvI",
        "outputId": "61ac2df3-22ce-45e9-fb97-9a18a9306ad2"
      },
      "execution_count": null,
      "outputs": [
        {
          "output_type": "execute_result",
          "data": {
            "text/plain": [
              "            Property Name    Price        House Type  Size  No. of Bedrooms  \\\n",
              "2             Hotham Road   735000  Flat / Apartment   761                2   \n",
              "3            Festing Road  1765000             House  1986                4   \n",
              "4            Spencer Walk   675000  Flat / Apartment   700                2   \n",
              "70            Enmore Road   749950  Flat / Apartment  1382                3   \n",
              "121        Burleigh Place  1175000             House  1909                4   \n",
              "...                   ...      ...               ...   ...              ...   \n",
              "3269  Wimbledon Park Road  2650000             House  3468                5   \n",
              "3284     Westleigh Avenue  2695000             House  3646                7   \n",
              "3289       Colinette Road  4075000             House  5675                7   \n",
              "3351          Salvin Road   850000  Flat / Apartment  1008                2   \n",
              "3362           Parkfields  1000000             House   954                2   \n",
              "\n",
              "      No. of Bathrooms  No. of Receptions Location City/County Postal Code  \n",
              "2                    2                  2   Putney      London    SW15 1QL  \n",
              "3                    4                  4   Putney      London    SW15 1LP  \n",
              "4                    2                  2   Putney      London    SW15 1PL  \n",
              "70                   3                  3   Putney      London    SW15 6LL  \n",
              "121                  4                  4   Putney      London    SW15 6ES  \n",
              "...                ...                ...      ...         ...         ...  \n",
              "3269                 5                  5   Putney      London    SW18 5SJ  \n",
              "3284                 7                  7   Putney      London    SW15 6RQ  \n",
              "3289                 7                  7   Putney      London    SW15 6QG  \n",
              "3351                 2                  2   Putney      London    SW15 1DR  \n",
              "3362                 2                  2   Putney      London    SW15 6NH  \n",
              "\n",
              "[96 rows x 10 columns]"
            ],
            "text/html": [
              "\n",
              "  <div id=\"df-2cd141c8-5cd3-4db0-a041-1772daab44de\">\n",
              "    <div class=\"colab-df-container\">\n",
              "      <div>\n",
              "<style scoped>\n",
              "    .dataframe tbody tr th:only-of-type {\n",
              "        vertical-align: middle;\n",
              "    }\n",
              "\n",
              "    .dataframe tbody tr th {\n",
              "        vertical-align: top;\n",
              "    }\n",
              "\n",
              "    .dataframe thead th {\n",
              "        text-align: right;\n",
              "    }\n",
              "</style>\n",
              "<table border=\"1\" class=\"dataframe\">\n",
              "  <thead>\n",
              "    <tr style=\"text-align: right;\">\n",
              "      <th></th>\n",
              "      <th>Property Name</th>\n",
              "      <th>Price</th>\n",
              "      <th>House Type</th>\n",
              "      <th>Size</th>\n",
              "      <th>No. of Bedrooms</th>\n",
              "      <th>No. of Bathrooms</th>\n",
              "      <th>No. of Receptions</th>\n",
              "      <th>Location</th>\n",
              "      <th>City/County</th>\n",
              "      <th>Postal Code</th>\n",
              "    </tr>\n",
              "  </thead>\n",
              "  <tbody>\n",
              "    <tr>\n",
              "      <th>2</th>\n",
              "      <td>Hotham Road</td>\n",
              "      <td>735000</td>\n",
              "      <td>Flat / Apartment</td>\n",
              "      <td>761</td>\n",
              "      <td>2</td>\n",
              "      <td>2</td>\n",
              "      <td>2</td>\n",
              "      <td>Putney</td>\n",
              "      <td>London</td>\n",
              "      <td>SW15 1QL</td>\n",
              "    </tr>\n",
              "    <tr>\n",
              "      <th>3</th>\n",
              "      <td>Festing Road</td>\n",
              "      <td>1765000</td>\n",
              "      <td>House</td>\n",
              "      <td>1986</td>\n",
              "      <td>4</td>\n",
              "      <td>4</td>\n",
              "      <td>4</td>\n",
              "      <td>Putney</td>\n",
              "      <td>London</td>\n",
              "      <td>SW15 1LP</td>\n",
              "    </tr>\n",
              "    <tr>\n",
              "      <th>4</th>\n",
              "      <td>Spencer Walk</td>\n",
              "      <td>675000</td>\n",
              "      <td>Flat / Apartment</td>\n",
              "      <td>700</td>\n",
              "      <td>2</td>\n",
              "      <td>2</td>\n",
              "      <td>2</td>\n",
              "      <td>Putney</td>\n",
              "      <td>London</td>\n",
              "      <td>SW15 1PL</td>\n",
              "    </tr>\n",
              "    <tr>\n",
              "      <th>70</th>\n",
              "      <td>Enmore Road</td>\n",
              "      <td>749950</td>\n",
              "      <td>Flat / Apartment</td>\n",
              "      <td>1382</td>\n",
              "      <td>3</td>\n",
              "      <td>3</td>\n",
              "      <td>3</td>\n",
              "      <td>Putney</td>\n",
              "      <td>London</td>\n",
              "      <td>SW15 6LL</td>\n",
              "    </tr>\n",
              "    <tr>\n",
              "      <th>121</th>\n",
              "      <td>Burleigh Place</td>\n",
              "      <td>1175000</td>\n",
              "      <td>House</td>\n",
              "      <td>1909</td>\n",
              "      <td>4</td>\n",
              "      <td>4</td>\n",
              "      <td>4</td>\n",
              "      <td>Putney</td>\n",
              "      <td>London</td>\n",
              "      <td>SW15 6ES</td>\n",
              "    </tr>\n",
              "    <tr>\n",
              "      <th>...</th>\n",
              "      <td>...</td>\n",
              "      <td>...</td>\n",
              "      <td>...</td>\n",
              "      <td>...</td>\n",
              "      <td>...</td>\n",
              "      <td>...</td>\n",
              "      <td>...</td>\n",
              "      <td>...</td>\n",
              "      <td>...</td>\n",
              "      <td>...</td>\n",
              "    </tr>\n",
              "    <tr>\n",
              "      <th>3269</th>\n",
              "      <td>Wimbledon Park Road</td>\n",
              "      <td>2650000</td>\n",
              "      <td>House</td>\n",
              "      <td>3468</td>\n",
              "      <td>5</td>\n",
              "      <td>5</td>\n",
              "      <td>5</td>\n",
              "      <td>Putney</td>\n",
              "      <td>London</td>\n",
              "      <td>SW18 5SJ</td>\n",
              "    </tr>\n",
              "    <tr>\n",
              "      <th>3284</th>\n",
              "      <td>Westleigh Avenue</td>\n",
              "      <td>2695000</td>\n",
              "      <td>House</td>\n",
              "      <td>3646</td>\n",
              "      <td>7</td>\n",
              "      <td>7</td>\n",
              "      <td>7</td>\n",
              "      <td>Putney</td>\n",
              "      <td>London</td>\n",
              "      <td>SW15 6RQ</td>\n",
              "    </tr>\n",
              "    <tr>\n",
              "      <th>3289</th>\n",
              "      <td>Colinette Road</td>\n",
              "      <td>4075000</td>\n",
              "      <td>House</td>\n",
              "      <td>5675</td>\n",
              "      <td>7</td>\n",
              "      <td>7</td>\n",
              "      <td>7</td>\n",
              "      <td>Putney</td>\n",
              "      <td>London</td>\n",
              "      <td>SW15 6QG</td>\n",
              "    </tr>\n",
              "    <tr>\n",
              "      <th>3351</th>\n",
              "      <td>Salvin Road</td>\n",
              "      <td>850000</td>\n",
              "      <td>Flat / Apartment</td>\n",
              "      <td>1008</td>\n",
              "      <td>2</td>\n",
              "      <td>2</td>\n",
              "      <td>2</td>\n",
              "      <td>Putney</td>\n",
              "      <td>London</td>\n",
              "      <td>SW15 1DR</td>\n",
              "    </tr>\n",
              "    <tr>\n",
              "      <th>3362</th>\n",
              "      <td>Parkfields</td>\n",
              "      <td>1000000</td>\n",
              "      <td>House</td>\n",
              "      <td>954</td>\n",
              "      <td>2</td>\n",
              "      <td>2</td>\n",
              "      <td>2</td>\n",
              "      <td>Putney</td>\n",
              "      <td>London</td>\n",
              "      <td>SW15 6NH</td>\n",
              "    </tr>\n",
              "  </tbody>\n",
              "</table>\n",
              "<p>96 rows × 10 columns</p>\n",
              "</div>\n",
              "      <button class=\"colab-df-convert\" onclick=\"convertToInteractive('df-2cd141c8-5cd3-4db0-a041-1772daab44de')\"\n",
              "              title=\"Convert this dataframe to an interactive table.\"\n",
              "              style=\"display:none;\">\n",
              "        \n",
              "  <svg xmlns=\"http://www.w3.org/2000/svg\" height=\"24px\"viewBox=\"0 0 24 24\"\n",
              "       width=\"24px\">\n",
              "    <path d=\"M0 0h24v24H0V0z\" fill=\"none\"/>\n",
              "    <path d=\"M18.56 5.44l.94 2.06.94-2.06 2.06-.94-2.06-.94-.94-2.06-.94 2.06-2.06.94zm-11 1L8.5 8.5l.94-2.06 2.06-.94-2.06-.94L8.5 2.5l-.94 2.06-2.06.94zm10 10l.94 2.06.94-2.06 2.06-.94-2.06-.94-.94-2.06-.94 2.06-2.06.94z\"/><path d=\"M17.41 7.96l-1.37-1.37c-.4-.4-.92-.59-1.43-.59-.52 0-1.04.2-1.43.59L10.3 9.45l-7.72 7.72c-.78.78-.78 2.05 0 2.83L4 21.41c.39.39.9.59 1.41.59.51 0 1.02-.2 1.41-.59l7.78-7.78 2.81-2.81c.8-.78.8-2.07 0-2.86zM5.41 20L4 18.59l7.72-7.72 1.47 1.35L5.41 20z\"/>\n",
              "  </svg>\n",
              "      </button>\n",
              "      \n",
              "  <style>\n",
              "    .colab-df-container {\n",
              "      display:flex;\n",
              "      flex-wrap:wrap;\n",
              "      gap: 12px;\n",
              "    }\n",
              "\n",
              "    .colab-df-convert {\n",
              "      background-color: #E8F0FE;\n",
              "      border: none;\n",
              "      border-radius: 50%;\n",
              "      cursor: pointer;\n",
              "      display: none;\n",
              "      fill: #1967D2;\n",
              "      height: 32px;\n",
              "      padding: 0 0 0 0;\n",
              "      width: 32px;\n",
              "    }\n",
              "\n",
              "    .colab-df-convert:hover {\n",
              "      background-color: #E2EBFA;\n",
              "      box-shadow: 0px 1px 2px rgba(60, 64, 67, 0.3), 0px 1px 3px 1px rgba(60, 64, 67, 0.15);\n",
              "      fill: #174EA6;\n",
              "    }\n",
              "\n",
              "    [theme=dark] .colab-df-convert {\n",
              "      background-color: #3B4455;\n",
              "      fill: #D2E3FC;\n",
              "    }\n",
              "\n",
              "    [theme=dark] .colab-df-convert:hover {\n",
              "      background-color: #434B5C;\n",
              "      box-shadow: 0px 1px 3px 1px rgba(0, 0, 0, 0.15);\n",
              "      filter: drop-shadow(0px 1px 2px rgba(0, 0, 0, 0.3));\n",
              "      fill: #FFFFFF;\n",
              "    }\n",
              "  </style>\n",
              "\n",
              "      <script>\n",
              "        const buttonEl =\n",
              "          document.querySelector('#df-2cd141c8-5cd3-4db0-a041-1772daab44de button.colab-df-convert');\n",
              "        buttonEl.style.display =\n",
              "          google.colab.kernel.accessAllowed ? 'block' : 'none';\n",
              "\n",
              "        async function convertToInteractive(key) {\n",
              "          const element = document.querySelector('#df-2cd141c8-5cd3-4db0-a041-1772daab44de');\n",
              "          const dataTable =\n",
              "            await google.colab.kernel.invokeFunction('convertToInteractive',\n",
              "                                                     [key], {});\n",
              "          if (!dataTable) return;\n",
              "\n",
              "          const docLinkHtml = 'Like what you see? Visit the ' +\n",
              "            '<a target=\"_blank\" href=https://colab.research.google.com/notebooks/data_table.ipynb>data table notebook</a>'\n",
              "            + ' to learn more about interactive tables.';\n",
              "          element.innerHTML = '';\n",
              "          dataTable['output_type'] = 'display_data';\n",
              "          await google.colab.output.renderOutput(dataTable, element);\n",
              "          const docLink = document.createElement('div');\n",
              "          docLink.innerHTML = docLinkHtml;\n",
              "          element.appendChild(docLink);\n",
              "        }\n",
              "      </script>\n",
              "    </div>\n",
              "  </div>\n",
              "  "
            ]
          },
          "metadata": {},
          "execution_count": 32
        }
      ]
    },
    {
      "cell_type": "code",
      "source": [
        "x=londonHouse[\"Size\"].to_numpy()\n",
        "y=londonHouse[\"Price\"].to_numpy()\n",
        "print(x)\n",
        "print(y)"
      ],
      "metadata": {
        "colab": {
          "base_uri": "https://localhost:8080/"
        },
        "id": "aL05Ya2VN5il",
        "outputId": "66855310-8f48-446b-909b-34d3431227bb"
      },
      "execution_count": null,
      "outputs": [
        {
          "output_type": "stream",
          "name": "stdout",
          "text": [
            "[ 761 1986  700 1382 1909 1902 2931 1604  927 1902 2210  540  962 2096\n",
            "  730 1934  876  905 1214  876 1295  820 2120 1399 1224 2205  548  774\n",
            " 3256  947  990 1894 3336  670 1810 1468 2149  525 1168 1055 2368 1940\n",
            " 2472 1297 2565 2270  729  849 3235  983 2358  947  986 3583  816 1450\n",
            "  730 1909 2978 1211  832 1146 1647  863 1771 3235 1195  647  657  592\n",
            " 1255  905 4661 1835 1450  667 1903 1155 4923 2043 1360 2995 2158 2899\n",
            " 3414 2881  362  899  615 4831 3134 3468 3646 5675 1008  954]\n",
            "[ 735000 1765000  675000  749950 1175000 1395000 1725000 1350000  635000\n",
            " 1795000 3250000  525000 1000000 1695000  549950 1200000 1295000 1000000\n",
            "  799000  850000  985000  775000 1850000 1460000  825000 1695000  425000\n",
            "  635000 1995000  825000  775000 1475000 2950000  439000 1250000 1150000\n",
            " 2000000  375000  899000  995000 1695000 1295000  795000  835000 2100000\n",
            " 1650000  535000  550000 1695000  575000 1395000  700000  675000 3395000\n",
            "  699950 1225000  710000 1345000 2250000  875000  779000  945000 1295000\n",
            "  775000 1335000 2950000  899950  595000  595000  539950 1075000  799950\n",
            " 3695000 1395000 1245000  465000 1695000  940000 3195000 1100000 1375000\n",
            " 2950000 1950000 2295000 2895000 2395000  399950  625000  540000 3499000\n",
            " 2350000 2650000 2695000 4075000  850000 1000000]\n"
          ]
        }
      ]
    },
    {
      "cell_type": "code",
      "source": [
        "londonHouse.corrwith(londonHouse[\"Price\"])"
      ],
      "metadata": {
        "colab": {
          "base_uri": "https://localhost:8080/"
        },
        "id": "gi9HH4inOW2Y",
        "outputId": "dd420b09-ca25-4750-f457-6c049a106aba"
      },
      "execution_count": null,
      "outputs": [
        {
          "output_type": "execute_result",
          "data": {
            "text/plain": [
              "Price                1.000000\n",
              "Size                 0.933693\n",
              "No. of Bedrooms      0.826088\n",
              "No. of Bathrooms     0.826088\n",
              "No. of Receptions    0.826088\n",
              "dtype: float64"
            ]
          },
          "metadata": {},
          "execution_count": 34
        }
      ]
    },
    {
      "cell_type": "code",
      "source": [
        "londonHouse.corrwith(londonHouse[\"Price\"]).to_numpy()"
      ],
      "metadata": {
        "colab": {
          "base_uri": "https://localhost:8080/"
        },
        "id": "Ats3v4fIPQdT",
        "outputId": "75696924-a96a-4f4e-a7c9-1926ac02b86c"
      },
      "execution_count": null,
      "outputs": [
        {
          "output_type": "execute_result",
          "data": {
            "text/plain": [
              "array([1.        , 0.93369279, 0.82608756, 0.82608756, 0.82608756])"
            ]
          },
          "metadata": {},
          "execution_count": 35
        }
      ]
    },
    {
      "cell_type": "code",
      "source": [
        "londonHouse.Price.to_numpy()"
      ],
      "metadata": {
        "colab": {
          "base_uri": "https://localhost:8080/"
        },
        "id": "7ZQ3vWSYOmfn",
        "outputId": "eefebedf-3984-4624-c1f4-305c052d5ad7"
      },
      "execution_count": null,
      "outputs": [
        {
          "output_type": "execute_result",
          "data": {
            "text/plain": [
              "array([ 735000, 1765000,  675000,  749950, 1175000, 1395000, 1725000,\n",
              "       1350000,  635000, 1795000, 3250000,  525000, 1000000, 1695000,\n",
              "        549950, 1200000, 1295000, 1000000,  799000,  850000,  985000,\n",
              "        775000, 1850000, 1460000,  825000, 1695000,  425000,  635000,\n",
              "       1995000,  825000,  775000, 1475000, 2950000,  439000, 1250000,\n",
              "       1150000, 2000000,  375000,  899000,  995000, 1695000, 1295000,\n",
              "        795000,  835000, 2100000, 1650000,  535000,  550000, 1695000,\n",
              "        575000, 1395000,  700000,  675000, 3395000,  699950, 1225000,\n",
              "        710000, 1345000, 2250000,  875000,  779000,  945000, 1295000,\n",
              "        775000, 1335000, 2950000,  899950,  595000,  595000,  539950,\n",
              "       1075000,  799950, 3695000, 1395000, 1245000,  465000, 1695000,\n",
              "        940000, 3195000, 1100000, 1375000, 2950000, 1950000, 2295000,\n",
              "       2895000, 2395000,  399950,  625000,  540000, 3499000, 2350000,\n",
              "       2650000, 2695000, 4075000,  850000, 1000000])"
            ]
          },
          "metadata": {},
          "execution_count": 36
        }
      ]
    },
    {
      "cell_type": "code",
      "source": [
        "import matplotlib.pyplot as plt\n",
        "import seaborn as sns\n",
        "%matplotlib inline"
      ],
      "metadata": {
        "id": "wOSkmLluPir_"
      },
      "execution_count": null,
      "outputs": []
    },
    {
      "cell_type": "code",
      "source": [
        "plt.figure(figsize=(10,5))\n",
        "sns.scatterplot(data=londonHouse, x=\"Size\",y=\"Price\")\n",
        "plt.show()"
      ],
      "metadata": {
        "colab": {
          "base_uri": "https://localhost:8080/",
          "height": 345
        },
        "id": "fGIUpyO2PkKa",
        "outputId": "7ff07606-0de6-4201-ee8e-e0e7b86cf85f"
      },
      "execution_count": null,
      "outputs": [
        {
          "output_type": "display_data",
          "data": {
            "text/plain": [
              "<Figure size 720x360 with 1 Axes>"
            ],
            "image/png": "[encoded data removed]"
          },
          "metadata": {
            "needs_background": "light"
          }
        }
      ]
    },
    {
      "cell_type": "code",
      "source": [
        "tetta1=np.sum(np.multiply((x-x.mean()),(y-y.mean())))/(np.sum(np.square(x-x.mean())))\n",
        "tetta1"
      ],
      "metadata": {
        "colab": {
          "base_uri": "https://localhost:8080/"
        },
        "id": "5nrZGNu3Uspf",
        "outputId": "1d0d05c3-cde2-4a41-80fe-f6b83ae5c666"
      },
      "execution_count": null,
      "outputs": [
        {
          "output_type": "execute_result",
          "data": {
            "text/plain": [
              "723.5703595888389"
            ]
          },
          "metadata": {},
          "execution_count": 39
        }
      ]
    },
    {
      "cell_type": "code",
      "source": [
        "tetta0=y.mean()-tetta1*x.mean()\n",
        "tetta0"
      ],
      "metadata": {
        "colab": {
          "base_uri": "https://localhost:8080/"
        },
        "id": "9LWDsTLEVFXT",
        "outputId": "88875b75-d14b-43f8-8543-d3e68f92c7e3"
      },
      "execution_count": null,
      "outputs": [
        {
          "output_type": "execute_result",
          "data": {
            "text/plain": [
              "111459.22219052818"
            ]
          },
          "metadata": {},
          "execution_count": 40
        }
      ]
    },
    {
      "cell_type": "code",
      "source": [
        "x"
      ],
      "metadata": {
        "colab": {
          "base_uri": "https://localhost:8080/"
        },
        "id": "JsMnnpJGV0HR",
        "outputId": "4c143d35-449f-4a97-c470-c9c0be09746f"
      },
      "execution_count": null,
      "outputs": [
        {
          "output_type": "execute_result",
          "data": {
            "text/plain": [
              "array([ 761, 1986,  700, 1382, 1909, 1902, 2931, 1604,  927, 1902, 2210,\n",
              "        540,  962, 2096,  730, 1934,  876,  905, 1214,  876, 1295,  820,\n",
              "       2120, 1399, 1224, 2205,  548,  774, 3256,  947,  990, 1894, 3336,\n",
              "        670, 1810, 1468, 2149,  525, 1168, 1055, 2368, 1940, 2472, 1297,\n",
              "       2565, 2270,  729,  849, 3235,  983, 2358,  947,  986, 3583,  816,\n",
              "       1450,  730, 1909, 2978, 1211,  832, 1146, 1647,  863, 1771, 3235,\n",
              "       1195,  647,  657,  592, 1255,  905, 4661, 1835, 1450,  667, 1903,\n",
              "       1155, 4923, 2043, 1360, 2995, 2158, 2899, 3414, 2881,  362,  899,\n",
              "        615, 4831, 3134, 3468, 3646, 5675, 1008,  954])"
            ]
          },
          "metadata": {},
          "execution_count": 43
        }
      ]
    },
    {
      "cell_type": "code",
      "source": [
        "from pandas.core.common import random_state\n",
        "# DF ning \"Size\" ustunidan tasodifiy 10 ta qiymatlarni ajratib olamiz va ularning qiymatini massivga utkazamiz.\n",
        "# random_state() parametiri bilan tanishish. \n",
        "# x_train va y_train larni ajratib olamiz.\n",
        "x_train=londonHouse[\"Size\"].sample(10, random_state=42).to_numpy()\n",
        "\n",
        "y_train=londonHouse[\"Price\"].sample(10, random_state=42).to_numpy()\n",
        "print(x_train)\n",
        "print(y_train)"
      ],
      "metadata": {
        "colab": {
          "base_uri": "https://localhost:8080/"
        },
        "id": "bh1iCgA7V9tf",
        "outputId": "057c945b-2dde-45eb-eb44-4b32b861fb21"
      },
      "execution_count": null,
      "outputs": [
        {
          "output_type": "stream",
          "name": "stdout",
          "text": [
            "[1360 1155 1835 1008  670 2043  592 2472  761 2210]\n",
            "[1375000  940000 1395000  850000  439000 1100000  539950  795000  735000\n",
            " 3250000]\n"
          ]
        }
      ]
    },
    {
      "cell_type": "code",
      "source": [
        "# topgan tetta0 va tetta1 asosida qiymatlarni bashorat qilib ko'ramiz.\n",
        "y_pridect=tetta0+x_train*tetta1\n",
        "y_pridect_int=y_pridect.astype(np.int32)\n",
        "y_pridect_int[0:10]"
      ],
      "metadata": {
        "colab": {
          "base_uri": "https://localhost:8080/"
        },
        "id": "zYQzgAjrWSZf",
        "outputId": "c00f1032-bdd2-498e-c699-ba4c8980a65f"
      },
      "execution_count": null,
      "outputs": [
        {
          "output_type": "execute_result",
          "data": {
            "text/plain": [
              "array([1095514,  947182, 1439210,  840818,  596251, 1589713,  539812,\n",
              "       1900125,  662096, 1710549], dtype=int32)"
            ]
          },
          "metadata": {},
          "execution_count": 54
        }
      ]
    },
    {
      "cell_type": "code",
      "source": [
        "# plt yordamida tug'ri chiziq grafigini chizish.\n",
        "plt.figure(figsize=(10,6))\n",
        "sns.scatterplot(data=londonHouse, x=\"Size\",y=\"Price\")\n",
        "plt.plot(x_train,tetta0+x_train*tetta1, color=\"r\")\n",
        "plt.show()"
      ],
      "metadata": {
        "colab": {
          "base_uri": "https://localhost:8080/",
          "height": 399
        },
        "id": "GOqlvXfQWZim",
        "outputId": "38fde7bf-fe9a-40d7-cde3-a0849d63dd2b"
      },
      "execution_count": null,
      "outputs": [
        {
          "output_type": "display_data",
          "data": {
            "text/plain": [
              "<Figure size 720x432 with 1 Axes>"
            ],
            "image/png": "[encoded data removed]"
          },
          "metadata": {
            "needs_background": "light"
          }
        }
      ]
    },
    {
      "cell_type": "code",
      "source": [
        "MAE=np.sum(np.absolute(y_pridect-y_train))/len(y_train)\n",
        "MAE"
      ],
      "metadata": {
        "colab": {
          "base_uri": "https://localhost:8080/"
        },
        "id": "AuSRRNuXWlaL",
        "outputId": "3478a041-2a90-4cd1-eb82-3140e4b9bd84"
      },
      "execution_count": null,
      "outputs": [
        {
          "output_type": "execute_result",
          "data": {
            "text/plain": [
              "370464.18869173544"
            ]
          },
          "metadata": {},
          "execution_count": 56
        }
      ]
    },
    {
      "cell_type": "code",
      "source": [
        "RMSE = np.sqrt(np.sum(np.square(y_pridect-y_train))/len(y_train))\n",
        "RMSE"
      ],
      "metadata": {
        "colab": {
          "base_uri": "https://localhost:8080/"
        },
        "id": "9Q555U04Wpfp",
        "outputId": "bd4ea4ea-9004-4865-be17-020423943fab"
      },
      "execution_count": null,
      "outputs": [
        {
          "output_type": "execute_result",
          "data": {
            "text/plain": [
              "627795.6221668546"
            ]
          },
          "metadata": {},
          "execution_count": 57
        }
      ]
    }
  ]
}